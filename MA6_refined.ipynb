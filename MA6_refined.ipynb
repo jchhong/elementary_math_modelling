{
 "cells": [
  {
   "cell_type": "markdown",
   "id": "546ae77a-4259-4c9a-8f58-c6435bf0fea8",
   "metadata": {},
   "source": [
    "# MATH 360 Introduction to Mathematical Modelling\n",
    "\n",
    "### Modelling Assignment 6: Logistic Regression\n",
    "\n",
    "**Jincheng Hong**  \n",
    "Collaborated with: Ethan Billings, Haad Bhutta"
   ]
  },
  {
   "cell_type": "markdown",
   "id": "224e249b-d1a5-405f-a595-f04737d78f39",
   "metadata": {},
   "source": [
    "### Part 1: Construct the Model - Logistic Regression\n",
    "\n",
    "The `card_transdata_1.csv` dataset contains features that can be used to determine if a credit card transaction is genuine or fraud.  In particular, the dataset includes the following columns:\n",
    "- `distance_from_home`: the distance from home where the transaction happened.\n",
    "- `distance_from_last_transaction`: the distance from last transaction happened.\n",
    "- `ratio_to_median_purchase_price`: ratio of purchased price transaction to median purchase price.\n",
    "- `repeat_retailer`: is the transaction happened from same retailer.\n",
    "- `used_chip`: is the transaction through chip (credit card).\n",
    "- `used_pin_number`: is the transaction happened by using PIN number.\n",
    "- `online_order`: is the transaction an online order.\n",
    "- `fraud`: is the transaction fraudulent.\n",
    "\n",
    "Construct a mathematical model using logistic regression for following **Tasks** below.\n",
    "\n",
    "\n",
    "Present your work in a Jupyter notebook that includes:\n",
    "- Problem statement\n",
    "- Variable and parameter definitions \n",
    "- Assumptions and constraints\n",
    "- Logistic regression\n",
    "- Analysis\n",
    "\n",
    "Students work individually and submit their work in class."
   ]
  },
  {
   "cell_type": "code",
   "execution_count": 1,
   "id": "d5f4e0c0-2402-46c1-a0ea-3848749a79e4",
   "metadata": {},
   "outputs": [
    {
     "name": "stdout",
     "output_type": "stream",
     "text": [
      "packages imported\n"
     ]
    }
   ],
   "source": [
    "import numpy as np\n",
    "import matplotlib.pyplot as plt\n",
    "import pandas as pd\n",
    "from sklearn.linear_model import LogisticRegression\n",
    "from sklearn.model_selection import train_test_split\n",
    "from sklearn.metrics import confusion_matrix\n",
    "from sklearn.preprocessing import StandardScaler\n",
    "\n",
    "print(\"packages imported\")"
   ]
  },
  {
   "cell_type": "code",
   "execution_count": 2,
   "id": "cf8f6cc8-7dc5-43c2-bd3f-7043fa86a3bc",
   "metadata": {},
   "outputs": [
    {
     "name": "stdout",
     "output_type": "stream",
     "text": [
      "<class 'pandas.core.frame.DataFrame'>\n",
      "RangeIndex: 10000 entries, 0 to 9999\n",
      "Data columns (total 8 columns):\n",
      " #   Column                          Non-Null Count  Dtype  \n",
      "---  ------                          --------------  -----  \n",
      " 0   distance_from_home              10000 non-null  float64\n",
      " 1   distance_from_last_transaction  10000 non-null  float64\n",
      " 2   ratio_to_median_purchase_price  10000 non-null  float64\n",
      " 3   repeat_retailer                 10000 non-null  int64  \n",
      " 4   used_chip                       10000 non-null  int64  \n",
      " 5   used_pin_number                 10000 non-null  int64  \n",
      " 6   online_order                    10000 non-null  int64  \n",
      " 7   fraud                           10000 non-null  int64  \n",
      "dtypes: float64(3), int64(5)\n",
      "memory usage: 625.1 KB\n"
     ]
    }
   ],
   "source": [
    "#fraud  data \n",
    "fraud_data = pd.read_csv('card_transdata_1.csv')\n",
    "\n",
    "fraud = pd.DataFrame(fraud_data)\n",
    "fraud.info()"
   ]
  },
  {
   "cell_type": "code",
   "execution_count": 3,
   "id": "5a890b7e-405a-452d-bb1e-d85a27b4b690",
   "metadata": {},
   "outputs": [
    {
     "data": {
      "text/html": [
       "<div>\n",
       "<style scoped>\n",
       "    .dataframe tbody tr th:only-of-type {\n",
       "        vertical-align: middle;\n",
       "    }\n",
       "\n",
       "    .dataframe tbody tr th {\n",
       "        vertical-align: top;\n",
       "    }\n",
       "\n",
       "    .dataframe thead th {\n",
       "        text-align: right;\n",
       "    }\n",
       "</style>\n",
       "<table border=\"1\" class=\"dataframe\">\n",
       "  <thead>\n",
       "    <tr style=\"text-align: right;\">\n",
       "      <th></th>\n",
       "      <th>distance_from_home</th>\n",
       "      <th>distance_from_last_transaction</th>\n",
       "      <th>ratio_to_median_purchase_price</th>\n",
       "      <th>repeat_retailer</th>\n",
       "      <th>used_chip</th>\n",
       "      <th>used_pin_number</th>\n",
       "      <th>online_order</th>\n",
       "      <th>fraud</th>\n",
       "    </tr>\n",
       "  </thead>\n",
       "  <tbody>\n",
       "    <tr>\n",
       "      <th>0</th>\n",
       "      <td>57.877857</td>\n",
       "      <td>0.311140</td>\n",
       "      <td>1.945940</td>\n",
       "      <td>1</td>\n",
       "      <td>1</td>\n",
       "      <td>0</td>\n",
       "      <td>0</td>\n",
       "      <td>0</td>\n",
       "    </tr>\n",
       "    <tr>\n",
       "      <th>1</th>\n",
       "      <td>10.829943</td>\n",
       "      <td>0.175592</td>\n",
       "      <td>1.294219</td>\n",
       "      <td>1</td>\n",
       "      <td>0</td>\n",
       "      <td>0</td>\n",
       "      <td>0</td>\n",
       "      <td>0</td>\n",
       "    </tr>\n",
       "    <tr>\n",
       "      <th>2</th>\n",
       "      <td>5.091079</td>\n",
       "      <td>0.805153</td>\n",
       "      <td>0.427715</td>\n",
       "      <td>1</td>\n",
       "      <td>0</td>\n",
       "      <td>0</td>\n",
       "      <td>1</td>\n",
       "      <td>0</td>\n",
       "    </tr>\n",
       "    <tr>\n",
       "      <th>3</th>\n",
       "      <td>2.247564</td>\n",
       "      <td>5.600044</td>\n",
       "      <td>0.362663</td>\n",
       "      <td>1</td>\n",
       "      <td>1</td>\n",
       "      <td>0</td>\n",
       "      <td>1</td>\n",
       "      <td>0</td>\n",
       "    </tr>\n",
       "    <tr>\n",
       "      <th>4</th>\n",
       "      <td>44.190936</td>\n",
       "      <td>0.566486</td>\n",
       "      <td>2.222767</td>\n",
       "      <td>1</td>\n",
       "      <td>1</td>\n",
       "      <td>0</td>\n",
       "      <td>1</td>\n",
       "      <td>0</td>\n",
       "    </tr>\n",
       "  </tbody>\n",
       "</table>\n",
       "</div>"
      ],
      "text/plain": [
       "   distance_from_home  distance_from_last_transaction  \\\n",
       "0           57.877857                        0.311140   \n",
       "1           10.829943                        0.175592   \n",
       "2            5.091079                        0.805153   \n",
       "3            2.247564                        5.600044   \n",
       "4           44.190936                        0.566486   \n",
       "\n",
       "   ratio_to_median_purchase_price  repeat_retailer  used_chip  \\\n",
       "0                        1.945940                1          1   \n",
       "1                        1.294219                1          0   \n",
       "2                        0.427715                1          0   \n",
       "3                        0.362663                1          1   \n",
       "4                        2.222767                1          1   \n",
       "\n",
       "   used_pin_number  online_order  fraud  \n",
       "0                0             0      0  \n",
       "1                0             0      0  \n",
       "2                0             1      0  \n",
       "3                0             1      0  \n",
       "4                0             1      0  "
      ]
     },
     "execution_count": 3,
     "metadata": {},
     "output_type": "execute_result"
    }
   ],
   "source": [
    "fraud.head()"
   ]
  },
  {
   "cell_type": "markdown",
   "id": "fe675253-794f-4af9-8371-7a3473b87e20",
   "metadata": {},
   "source": [
    "## 1. Problem Statement \n",
    "\n",
    "**Task:** Write a problem statement."
   ]
  },
  {
   "cell_type": "markdown",
   "id": "d5de35df-5c68-48ae-ac75-ed8e3f5afe9c",
   "metadata": {},
   "source": [
    "Build a logistic regression model by using the listed features to predict whether a credit card transaction is fraud or not."
   ]
  },
  {
   "cell_type": "markdown",
   "id": "6d23d3d3-fd3d-4143-a3f1-8efa98afc49b",
   "metadata": {},
   "source": [
    "## 2. Variables and Parameters  \n",
    "**Task:** State parameters and variables."
   ]
  },
  {
   "cell_type": "markdown",
   "id": "6789714d-4907-4eb8-99e0-b77ca25ee625",
   "metadata": {},
   "source": [
    "| Description | Symbol | Units | Type|\n",
    "|-------------|--------|-------|-------|\n",
    "| is fraud or not | $Y$ | - | target (dependent) variable |\n",
    "| distance from home| $X1$ |-| feature (independent) variable |\n",
    "| distance from last transaction | $X2$ | -| feature (independent) variable |\n",
    "| ratio to median purchase price | $X3$ |-| feature (independent) variable |\n",
    "| repeat retailer   | $X4$ |-| feature (independent) variable |\n",
    "| used chip   | $X5$ | - | feature (independent) variable |\n",
    "| used pin number   | $X6$ |-| feature (independent) variable |\n",
    "| online order | $X7$ |-| feature (independent) variable |\n",
    "| Regularization parameter| $\\alpha$| - | parameter |\n",
    "| Weights | $\\bf{W}$ | - | parameter |\n",
    "| Bias | $b$ | - | parameter |"
   ]
  },
  {
   "cell_type": "markdown",
   "id": "b96bcb87-1344-4810-8b40-94c4ebe42c66",
   "metadata": {},
   "source": [
    "Note: $Y=0$ means transaction is not fraud while $Y=1$ means is fraud."
   ]
  },
  {
   "cell_type": "markdown",
   "id": "10ad41d2-2530-4e77-9989-4a82d8ab9d8c",
   "metadata": {},
   "source": [
    "## 3. Assumptions and Constraints  \n",
    "**Task:** State assumptions and constraints. "
   ]
  },
  {
   "cell_type": "markdown",
   "id": "e9455569-4797-4ae2-8145-db730319e201",
   "metadata": {},
   "source": [
    "- The model follows logistic model and is suitable for logistic regression.\n",
    "- These above features are the only features that determine if a credit card transaction is fraud.\n",
    "- These above features are independent and each observation is independent.\n",
    "- We can split data into training set and a testing set with a 70-30 ratio.\n",
    "    - assume the model score can represent how well our model is."
   ]
  },
  {
   "cell_type": "markdown",
   "id": "75abbd20-6e00-4865-b090-59da3ec215d4",
   "metadata": {},
   "source": [
    "## 4. Build Solutions"
   ]
  },
  {
   "cell_type": "markdown",
   "id": "b3114814-e75e-4861-9ef2-b6ab69a1089c",
   "metadata": {},
   "source": [
    "**Task:** Define the data matrix `X` and target vector `y`."
   ]
  },
  {
   "cell_type": "code",
   "execution_count": 4,
   "id": "425a6ae7-0396-45c3-bb28-920caa040809",
   "metadata": {},
   "outputs": [
    {
     "name": "stdout",
     "output_type": "stream",
     "text": [
      "<class 'pandas.core.frame.DataFrame'>\n",
      "RangeIndex: 10000 entries, 0 to 9999\n",
      "Data columns (total 7 columns):\n",
      " #   Column                          Non-Null Count  Dtype  \n",
      "---  ------                          --------------  -----  \n",
      " 0   distance_from_home              10000 non-null  float64\n",
      " 1   distance_from_last_transaction  10000 non-null  float64\n",
      " 2   ratio_to_median_purchase_price  10000 non-null  float64\n",
      " 3   repeat_retailer                 10000 non-null  int64  \n",
      " 4   used_chip                       10000 non-null  int64  \n",
      " 5   used_pin_number                 10000 non-null  int64  \n",
      " 6   online_order                    10000 non-null  int64  \n",
      "dtypes: float64(3), int64(4)\n",
      "memory usage: 547.0 KB\n"
     ]
    }
   ],
   "source": [
    "X = fraud.copy().drop(columns='fraud')\n",
    "y = fraud['fraud']\n",
    "X.info()"
   ]
  },
  {
   "cell_type": "markdown",
   "id": "1dd52db2-129c-4ab0-bdb9-38d9968df7aa",
   "metadata": {},
   "source": [
    "### 4.1 Determine regularization\n",
    "**Task:** Determine the appropriate amount of regularization to include and then construct a logistic regression model using `LogisticRegression`.  Print out the weights and the bias values determined from your logistic regression."
   ]
  },
  {
   "cell_type": "code",
   "execution_count": 5,
   "id": "52ea7af1-cc5c-414e-9a34-e0eaaa2bc903",
   "metadata": {},
   "outputs": [],
   "source": [
    "# using the default C=1\n",
    "model = LogisticRegression(C=1,max_iter=1000).fit(X, y)"
   ]
  },
  {
   "cell_type": "code",
   "execution_count": 6,
   "id": "62f12bfa-10d1-46fb-acb5-1620ad36cf1b",
   "metadata": {},
   "outputs": [
    {
     "name": "stderr",
     "output_type": "stream",
     "text": [
      "/Users/jinchenghong/anaconda3/lib/python3.10/site-packages/pandas/core/internals/blocks.py:351: RuntimeWarning: divide by zero encountered in log\n",
      "  result = func(self.values, **kwargs)\n",
      "/Users/jinchenghong/anaconda3/lib/python3.10/site-packages/pandas/core/internals/blocks.py:351: RuntimeWarning: divide by zero encountered in log\n",
      "  result = func(self.values, **kwargs)\n",
      "/Users/jinchenghong/anaconda3/lib/python3.10/site-packages/pandas/core/internals/blocks.py:351: RuntimeWarning: divide by zero encountered in log\n",
      "  result = func(self.values, **kwargs)\n",
      "/Users/jinchenghong/anaconda3/lib/python3.10/site-packages/pandas/core/internals/blocks.py:351: RuntimeWarning: divide by zero encountered in log\n",
      "  result = func(self.values, **kwargs)\n",
      "/Users/jinchenghong/anaconda3/lib/python3.10/site-packages/pandas/core/internals/blocks.py:351: RuntimeWarning: divide by zero encountered in log\n",
      "  result = func(self.values, **kwargs)\n"
     ]
    },
    {
     "data": {
      "image/png": "[encoded data removed]",
      "text/plain": [
       "<Figure size 640x480 with 2 Axes>"
      ]
     },
     "metadata": {},
     "output_type": "display_data"
    }
   ],
   "source": [
    "def costCE(W,b,X,y):\n",
    "    N,p = X.shape\n",
    "    W = np.array(W).reshape(p,1)\n",
    "    y = np.array(y).reshape(N,1)\n",
    "    S = 1/(1 + np.exp(-(X@W + b)))\n",
    "    L = -1/N*np.sum(y*np.log(S) + (1 - y)*np.log(1 - S))\n",
    "    return L\n",
    "\n",
    "CEs = []\n",
    "Rs = []\n",
    "alphas = np.logspace(-1,3,20)\n",
    "for alpha in alphas:\n",
    "    model = LogisticRegression(C=1/alpha,max_iter=1000).fit(X, y)\n",
    "    W = model.coef_\n",
    "    b = model.intercept_\n",
    "    CE = costCE(W,b,X,y)\n",
    "    R = np.linalg.norm(W)**2\n",
    "    CEs.append(CE)\n",
    "    Rs.append(R)\n",
    "\n",
    "plt.scatter(Rs,CEs,c=np.log10(alphas))\n",
    "plt.grid(True), plt.colorbar(label='$\\log_{10}(alpha)$')\n",
    "plt.xlabel('$|| W ||^2$')\n",
    "plt.ylabel('Cross Entropy')\n",
    "plt.show()"
   ]
  },
  {
   "cell_type": "markdown",
   "id": "ebb3bf4f-f11b-47e3-ad53-35cbe5306b19",
   "metadata": {},
   "source": [
    "It seems like some bugs occured, but luckily we can still see the shape. It seems that $\\alpha = 1$ or $\\alpha = 10^{0.5}$ is good enough. For convenience, I would choose $\\alpha = 1$."
   ]
  },
  {
   "cell_type": "markdown",
   "id": "4641576a-0b0b-4a34-b148-a48e47fb3015",
   "metadata": {},
   "source": [
    "### 4.2 Split data, train model, and test\n",
    "**Task:** Using a training set and testing split of your choosing, split the data into a training set and a testing set. Evaluate your model and explicitly state (i.e., calculate and print the result) the percentage of correctly classified fraudulent transactions. "
   ]
  },
  {
   "cell_type": "code",
   "execution_count": 7,
   "id": "b999c9bd-df4e-4cb0-9566-42131c87d940",
   "metadata": {},
   "outputs": [],
   "source": [
    "# split with 70-30 ratio\n",
    "X_train, X_test, y_train, y_test = train_test_split(X,y,test_size=0.3)"
   ]
  },
  {
   "cell_type": "code",
   "execution_count": 8,
   "id": "e3333224-7ade-43de-819f-8b05d1ba59e3",
   "metadata": {},
   "outputs": [],
   "source": [
    "model = LogisticRegression(C=1,max_iter=1000).fit(X_train, y_train)"
   ]
  },
  {
   "cell_type": "code",
   "execution_count": 9,
   "id": "6a538f34-d350-4f41-a275-4d0ebc24b38f",
   "metadata": {},
   "outputs": [
    {
     "data": {
      "text/plain": [
       "0.9533333333333334"
      ]
     },
     "execution_count": 9,
     "metadata": {},
     "output_type": "execute_result"
    }
   ],
   "source": [
    "model.score(X_test,y_test)"
   ]
  },
  {
   "cell_type": "markdown",
   "id": "28df5882-5bb3-4d69-b111-58703bf91681",
   "metadata": {},
   "source": [
    "It shows that this model correctly predicted 95.13% of the transactions in the testing set."
   ]
  },
  {
   "cell_type": "code",
   "execution_count": 10,
   "id": "0a71502b-290c-4bbd-97d3-0d60c7442166",
   "metadata": {},
   "outputs": [
    {
     "data": {
      "text/plain": [
       "0.9159"
      ]
     },
     "execution_count": 10,
     "metadata": {},
     "output_type": "execute_result"
    }
   ],
   "source": [
    "# The percentage of non-fraud in the set\n",
    "len(y[y == 0])/len(y)"
   ]
  },
  {
   "cell_type": "markdown",
   "id": "cffcad3a-9150-41c9-bc4d-90366bfc8b8d",
   "metadata": {},
   "source": [
    "The score for this model is higher, which indicates this model is good."
   ]
  },
  {
   "cell_type": "code",
   "execution_count": 11,
   "id": "76e61c9f-8270-483a-bcba-72d5b944175f",
   "metadata": {},
   "outputs": [
    {
     "data": {
      "text/plain": [
       "array([[2724,   24],\n",
       "       [ 116,  136]])"
      ]
     },
     "execution_count": 11,
     "metadata": {},
     "output_type": "execute_result"
    }
   ],
   "source": [
    "y_pred = model.predict(X_test)\n",
    "C = confusion_matrix(y_test,y_pred)\n",
    "C"
   ]
  },
  {
   "cell_type": "markdown",
   "id": "4a55affc-abbc-414c-97ae-23951ffdfe0a",
   "metadata": {},
   "source": [
    "This shows that \n",
    "|  | pred_negative(non-fraud) | pred_positive(fraud) |\n",
    "|-------------|--------|-------|\n",
    "| true_negative(non-fraud) | 2734 | 14 |\n",
    "| true_positive(fraud)| 132 |120|"
   ]
  },
  {
   "cell_type": "code",
   "execution_count": 12,
   "id": "a4f9473d-5476-4008-b5aa-ffe3afd746c4",
   "metadata": {},
   "outputs": [
    {
     "data": {
      "text/plain": [
       "0.47619047619047616"
      ]
     },
     "execution_count": 12,
     "metadata": {},
     "output_type": "execute_result"
    }
   ],
   "source": [
    "120/(132+120)"
   ]
  },
  {
   "cell_type": "markdown",
   "id": "cd95bb15-85fd-4a5e-9b12-2113efd9cc77",
   "metadata": {},
   "source": [
    "This model correctly predicted $120/252 = 47.6 \\% $ fraud transactions. This seems not very good."
   ]
  },
  {
   "cell_type": "markdown",
   "id": "b5b8d90f-b4c3-4a07-b9e7-c482fad92bd4",
   "metadata": {},
   "source": [
    "### 4.3 Standardization\n",
    "**Task:** Scale the matrix `X` and perform a new logistic regression.  Do you achieve the same level of accuracy?  Is this expected?"
   ]
  },
  {
   "cell_type": "code",
   "execution_count": 13,
   "id": "79565c41-ede6-4df2-a3e6-5dadc22f76f0",
   "metadata": {},
   "outputs": [
    {
     "data": {
      "text/plain": [
       "0.9556666666666667"
      ]
     },
     "execution_count": 13,
     "metadata": {},
     "output_type": "execute_result"
    }
   ],
   "source": [
    "X_scaled = StandardScaler().fit_transform(X)\n",
    "X_train, X_test, y_train, y_test = train_test_split(X_scaled, y, test_size=0.3)\n",
    "model = LogisticRegression(C=1,max_iter=1000).fit(X_train, y_train)\n",
    "model.score(X_test,y_test)"
   ]
  },
  {
   "cell_type": "code",
   "execution_count": 14,
   "id": "71f41467-c4ce-478d-b8a4-24808cf39359",
   "metadata": {},
   "outputs": [
    {
     "data": {
      "text/plain": [
       "array([[2732,   11],\n",
       "       [ 122,  135]])"
      ]
     },
     "execution_count": 14,
     "metadata": {},
     "output_type": "execute_result"
    }
   ],
   "source": [
    "y_pred = model.predict(X_test)\n",
    "C = confusion_matrix(y_test,y_pred)\n",
    "C"
   ]
  },
  {
   "cell_type": "markdown",
   "id": "5999601c-2f9d-4860-89bf-aad6dc289360",
   "metadata": {},
   "source": [
    "This shows that \n",
    "|  | pred_negative(non-fraud) | pred_positive(fraud) |\n",
    "|-------------|--------|-------|\n",
    "| true_negative(non-fraud) | 2733 | 11 |\n",
    "| true_positive(fraud)| 126 |130|"
   ]
  },
  {
   "cell_type": "markdown",
   "id": "a29a9ef6-ba24-4661-97e8-991cc36b471c",
   "metadata": {},
   "source": [
    "This model is kind of similar to the previous one with a slight increase of accuracy. I think this model is better because it predicts more true fraud transactions.\n",
    "\n",
    "This is expected because while most of the columns are binary or close to 1, some are a bit larger like the `distance from home`. This means that these columns with large numbers have higher weight when classifying simply because they have larger numbers."
   ]
  },
  {
   "cell_type": "markdown",
   "id": "f781e916-bea9-4213-ae1c-de5c7ff101a4",
   "metadata": {},
   "source": [
    "### 4.4 Determine two features\n",
    "**Task:** Pick a model: the model without scaled data or the model with scaled data (be sure to justify your choice!). \n",
    "\n",
    "Using your chosen model, print out the $W$ and $b$ values.  From your values, determine the $2$ features which have the largest $W$ (in absolute magnitude).  Refit the model with these features and determine the accuracy.  \n",
    "\n",
    "Compare this model with the previous models.  Is there improvement?  In particular, produce the confusion matrices and discuss the false positives/negatives in the context of the modelling task."
   ]
  },
  {
   "cell_type": "code",
   "execution_count": 15,
   "id": "d9c58f30-81fb-4d81-b840-b8929e732301",
   "metadata": {},
   "outputs": [],
   "source": [
    "X_train, X_test, y_train, y_test = train_test_split(X_scaled, y, test_size=0.3)\n",
    "model = LogisticRegression(C=1,max_iter=1000).fit(X_train, y_train)"
   ]
  },
  {
   "cell_type": "markdown",
   "id": "0635e955-0343-47a2-82d1-b8169869084e",
   "metadata": {},
   "source": [
    "I pick the scaled model. Because this model gives slightly better accuracy and more case of true fraud."
   ]
  },
  {
   "cell_type": "code",
   "execution_count": 16,
   "id": "f623d653-70b6-4816-b6b9-350a88d4af55",
   "metadata": {},
   "outputs": [
    {
     "data": {
      "text/plain": [
       "(array([[ 0.8526002 ,  0.34457022,  1.99462004, -0.207983  , -0.53374008,\n",
       "         -4.34318986,  3.63426697]]),\n",
       " array([-6.61876412]))"
      ]
     },
     "execution_count": 16,
     "metadata": {},
     "output_type": "execute_result"
    }
   ],
   "source": [
    "W = model.coef_\n",
    "b = model.intercept_\n",
    "W, b"
   ]
  },
  {
   "cell_type": "markdown",
   "id": "bb5b1ab8-4ec3-4519-83de-9487739be06b",
   "metadata": {},
   "source": [
    "The largest values in absolute magnitude are associated with $X6$ and $X7$, namely `used_pin_number` and `online_order`."
   ]
  },
  {
   "cell_type": "markdown",
   "id": "83f87d40-de90-4ae7-a659-4f252f017cf3",
   "metadata": {},
   "source": [
    "What about the non-scaled model?"
   ]
  },
  {
   "cell_type": "code",
   "execution_count": 17,
   "id": "79f207a9-65c7-4c81-80c3-5b4e78187f0c",
   "metadata": {},
   "outputs": [
    {
     "data": {
      "text/plain": [
       "(array([[ 0.01554429,  0.01830326,  0.73873078, -0.63891638, -1.16879206,\n",
       "         -5.73884385,  7.23750462]]),\n",
       " array([-10.58446694]))"
      ]
     },
     "execution_count": 17,
     "metadata": {},
     "output_type": "execute_result"
    }
   ],
   "source": [
    "X = fraud.copy().drop(columns='fraud')\n",
    "y = fraud['fraud']\n",
    "model = LogisticRegression(C=1,max_iter=1000).fit(X, y)\n",
    "W = model.coef_\n",
    "b = model.intercept_\n",
    "W, b"
   ]
  },
  {
   "cell_type": "markdown",
   "id": "7b948342-422a-4320-bcc3-330f6db74bb0",
   "metadata": {},
   "source": [
    "This also suggest that $X6, X7$ are the two features with the largest absolute weight. Now let's train our model using these two features."
   ]
  },
  {
   "cell_type": "code",
   "execution_count": 18,
   "id": "e2716451-e5c7-448a-bd94-66d9a51e7a88",
   "metadata": {},
   "outputs": [
    {
     "data": {
      "text/html": [
       "<div>\n",
       "<style scoped>\n",
       "    .dataframe tbody tr th:only-of-type {\n",
       "        vertical-align: middle;\n",
       "    }\n",
       "\n",
       "    .dataframe tbody tr th {\n",
       "        vertical-align: top;\n",
       "    }\n",
       "\n",
       "    .dataframe thead th {\n",
       "        text-align: right;\n",
       "    }\n",
       "</style>\n",
       "<table border=\"1\" class=\"dataframe\">\n",
       "  <thead>\n",
       "    <tr style=\"text-align: right;\">\n",
       "      <th></th>\n",
       "      <th>used_pin_number</th>\n",
       "      <th>online_order</th>\n",
       "    </tr>\n",
       "  </thead>\n",
       "  <tbody>\n",
       "    <tr>\n",
       "      <th>0</th>\n",
       "      <td>0</td>\n",
       "      <td>0</td>\n",
       "    </tr>\n",
       "    <tr>\n",
       "      <th>1</th>\n",
       "      <td>0</td>\n",
       "      <td>0</td>\n",
       "    </tr>\n",
       "    <tr>\n",
       "      <th>2</th>\n",
       "      <td>0</td>\n",
       "      <td>1</td>\n",
       "    </tr>\n",
       "    <tr>\n",
       "      <th>3</th>\n",
       "      <td>0</td>\n",
       "      <td>1</td>\n",
       "    </tr>\n",
       "    <tr>\n",
       "      <th>4</th>\n",
       "      <td>0</td>\n",
       "      <td>1</td>\n",
       "    </tr>\n",
       "  </tbody>\n",
       "</table>\n",
       "</div>"
      ],
      "text/plain": [
       "   used_pin_number  online_order\n",
       "0                0             0\n",
       "1                0             0\n",
       "2                0             1\n",
       "3                0             1\n",
       "4                0             1"
      ]
     },
     "execution_count": 18,
     "metadata": {},
     "output_type": "execute_result"
    }
   ],
   "source": [
    "X_two = fraud[['used_pin_number','online_order']]\n",
    "y = fraud['fraud']\n",
    "X_two.head()"
   ]
  },
  {
   "cell_type": "code",
   "execution_count": 19,
   "id": "cdffd1a7-2c1f-4682-bc48-34d51e5fc4d8",
   "metadata": {},
   "outputs": [
    {
     "data": {
      "text/plain": [
       "0.918"
      ]
     },
     "execution_count": 19,
     "metadata": {},
     "output_type": "execute_result"
    }
   ],
   "source": [
    "X_train, X_test, y_train, y_test = train_test_split(X_two, y, test_size=0.3)\n",
    "model = LogisticRegression(C=1,max_iter=1000).fit(X_train, y_train)\n",
    "model.score(X_test,y_test)"
   ]
  },
  {
   "cell_type": "markdown",
   "id": "e23cbdb7-51bf-4612-8457-7d7488a4ad7a",
   "metadata": {},
   "source": [
    "The model score actually decreased! Let's take a closer look at the confusion matrix."
   ]
  },
  {
   "cell_type": "code",
   "execution_count": 20,
   "id": "fa98676f-13b8-4678-8709-dbe243ffc367",
   "metadata": {},
   "outputs": [
    {
     "data": {
      "text/plain": [
       "array([[2754,    0],\n",
       "       [ 246,    0]])"
      ]
     },
     "execution_count": 20,
     "metadata": {},
     "output_type": "execute_result"
    }
   ],
   "source": [
    "y_pred = model.predict(X_test)\n",
    "C = confusion_matrix(y_test,y_pred)\n",
    "C"
   ]
  },
  {
   "cell_type": "markdown",
   "id": "40ac330f-347d-4695-be8c-8d0dd9f354c7",
   "metadata": {},
   "source": [
    "This is bad because we see that this time the model predicts everything to be negative. This may because the two features are both binary. I think this caused some problem.\n",
    "\n",
    "But... What if we scale our data?"
   ]
  },
  {
   "cell_type": "code",
   "execution_count": 21,
   "id": "b16a3a25-7424-4607-aebd-1f4ca737031d",
   "metadata": {},
   "outputs": [
    {
     "data": {
      "text/plain": [
       "0.9146666666666666"
      ]
     },
     "execution_count": 21,
     "metadata": {},
     "output_type": "execute_result"
    }
   ],
   "source": [
    "X_two_scaled = StandardScaler().fit_transform(X_two)\n",
    "X_train, X_test, y_train, y_test = train_test_split(X_two_scaled, y, test_size=0.3)\n",
    "model = LogisticRegression(C=1,max_iter=1000).fit(X_train, y_train)\n",
    "model.score(X_test,y_test)"
   ]
  },
  {
   "cell_type": "code",
   "execution_count": 22,
   "id": "2a9d4f7d-b8cf-4a53-9c6d-7744980ec84d",
   "metadata": {},
   "outputs": [
    {
     "data": {
      "text/plain": [
       "array([[2744,    0],\n",
       "       [ 256,    0]])"
      ]
     },
     "execution_count": 22,
     "metadata": {},
     "output_type": "execute_result"
    }
   ],
   "source": [
    "y_pred = model.predict(X_test)\n",
    "C = confusion_matrix(y_test,y_pred)\n",
    "C"
   ]
  },
  {
   "cell_type": "markdown",
   "id": "2548416a-5056-4696-b894-58f8377b05b1",
   "metadata": {},
   "source": [
    "And... nothing changes when we scale the data."
   ]
  },
  {
   "cell_type": "markdown",
   "id": "b46180f2-402a-4a32-9300-2427a594c921",
   "metadata": {},
   "source": [
    "### 4.5 Visualization\n",
    "**Task:** Once you have determine the $2$ features from the previous task, visualize the model and showcase how the model behaves with varying input.  Be creative here! "
   ]
  },
  {
   "cell_type": "markdown",
   "id": "950ebb43-4a69-4044-89ba-a7f1c04c55ab",
   "metadata": {},
   "source": [
    "#### 4.5.1 Visualization with two binary features"
   ]
  },
  {
   "cell_type": "code",
   "execution_count": 23,
   "id": "bf0055c6-c1db-4f88-8595-69965676499b",
   "metadata": {},
   "outputs": [
    {
     "data": {
      "image/png": "[encoded data removed]",
      "text/plain": [
       "<Figure size 640x480 with 2 Axes>"
      ]
     },
     "metadata": {},
     "output_type": "display_data"
    }
   ],
   "source": [
    "plt.scatter(X['used_pin_number'],X['online_order'],c=y)\n",
    "plt.grid(True), plt.colorbar()\n",
    "plt.show()"
   ]
  },
  {
   "cell_type": "markdown",
   "id": "4a633d55-ce17-4861-8b31-8d587ec7edb8",
   "metadata": {},
   "source": [
    "The above problem is because the these two columns are binary, so there can only be 4 locations on graph and these points overlap together. Visualization about these two is wierd."
   ]
  },
  {
   "cell_type": "markdown",
   "id": "3adc57ad-195c-4108-991f-bc589976876b",
   "metadata": {},
   "source": [
    "#### 4.5.2 Visualization with two non-binary features\n",
    "Anyway, to visualize, let's choose `distance_from_last_transaction` and `ratio_to_median_purchase_price` because these two columns involve numbers that are not binary. This will give us a good plot."
   ]
  },
  {
   "cell_type": "code",
   "execution_count": 24,
   "id": "695a4614-2a44-466d-9a85-b9d1f7eb29f8",
   "metadata": {},
   "outputs": [
    {
     "data": {
      "text/plain": [
       "(array([[0.01268106, 0.4247406 ]]), array([-3.5904254]))"
      ]
     },
     "execution_count": 24,
     "metadata": {},
     "output_type": "execute_result"
    }
   ],
   "source": [
    "X_2 = fraud[['distance_from_last_transaction', 'ratio_to_median_purchase_price']]\n",
    "y = fraud['fraud']\n",
    "model = LogisticRegression(C=1,max_iter=1000).fit(X_2, y)\n",
    "W = model.coef_\n",
    "b = model.intercept_\n",
    "W,b"
   ]
  },
  {
   "cell_type": "code",
   "execution_count": 25,
   "id": "4f59a683-1980-4d57-b468-35dbd55649ac",
   "metadata": {},
   "outputs": [
    {
     "data": {
      "image/png": "[encoded data removed]",
      "text/plain": [
       "<Figure size 640x480 with 2 Axes>"
      ]
     },
     "metadata": {},
     "output_type": "display_data"
    }
   ],
   "source": [
    "x0 = np.linspace(0,1000,50); x1 = np.linspace(0,70,50);\n",
    "X0,X1 = np.meshgrid(x0,x1)\n",
    "\n",
    "W0 = 0.013; W1 = 0.425; b = -3.59\n",
    "Y = 1/(1 + np.exp(-(W0*X0 + W1*X1 + b)))\n",
    "plt.contourf(X0,X1,Y,levels=10,alpha=0.2)\n",
    "plt.contour(X0,X1,Y,levels=[0.5],colors='r')\n",
    "\n",
    "plt.scatter(X['distance_from_last_transaction'],X['ratio_to_median_purchase_price'],c=y)\n",
    "plt.xlabel('distance from last transaction')\n",
    "plt.ylabel('ratio to median purchase price')\n",
    "plt.grid(True), plt.colorbar()\n",
    "plt.show()"
   ]
  },
  {
   "cell_type": "markdown",
   "id": "ad834448-5bbe-4427-937f-53fb5010c60a",
   "metadata": {},
   "source": [
    "Let's zoom in too see better."
   ]
  },
  {
   "cell_type": "code",
   "execution_count": 26,
   "id": "f85f27e6-cdfa-434a-bfd3-0060a5c9c982",
   "metadata": {},
   "outputs": [
    {
     "data": {
      "image/png": "[encoded data removed]",
      "text/plain": [
       "<Figure size 640x480 with 2 Axes>"
      ]
     },
     "metadata": {},
     "output_type": "display_data"
    }
   ],
   "source": [
    "x0 = np.linspace(0,1000,50); x1 = np.linspace(0,70,50);\n",
    "X0,X1 = np.meshgrid(x0,x1)\n",
    "\n",
    "W0 = 0.013; W1 = 0.425; b = -3.59\n",
    "Y = 1/(1 + np.exp(-(W0*X0 + W1*X1 + b)))\n",
    "plt.contourf(X0,X1,Y,levels=10,alpha=0.2)\n",
    "plt.contour(X0,X1,Y,levels=[0.5],colors='r')\n",
    "\n",
    "plt.scatter(X['distance_from_last_transaction'],X['ratio_to_median_purchase_price'],c=y)\n",
    "plt.xlabel('distance from last transaction')\n",
    "plt.xlim((0,150))\n",
    "plt.ylim((0,30))\n",
    "plt.ylabel('ratio to median purchase price')\n",
    "plt.grid(True), plt.colorbar()\n",
    "plt.show()"
   ]
  },
  {
   "cell_type": "markdown",
   "id": "36466b9f-9949-4f43-a878-e6e710153ddf",
   "metadata": {
    "tags": []
   },
   "source": [
    "#### 4.5.3 Visualization with one binary feature and one non-binary feature\n",
    "What if we pick one binary feature and one non-binary feature? Here, I explore with picking $X3$ and $X7$, namely `ratio to median purchase price` and `online order`. I pick these two because they have the largest weight in the scaled model."
   ]
  },
  {
   "cell_type": "code",
   "execution_count": 27,
   "id": "1256c65c-8ffa-4859-a4f6-0c58234722cb",
   "metadata": {},
   "outputs": [
    {
     "data": {
      "text/plain": [
       "(array([[0.57719699, 5.54081635]]), array([-8.8668141]))"
      ]
     },
     "execution_count": 27,
     "metadata": {},
     "output_type": "execute_result"
    }
   ],
   "source": [
    "X_3 = fraud[['ratio_to_median_purchase_price', 'online_order']]\n",
    "y = fraud['fraud']\n",
    "model = LogisticRegression(C=1,max_iter=1000).fit(X_3, y)\n",
    "W = model.coef_\n",
    "b = model.intercept_\n",
    "W,b"
   ]
  },
  {
   "cell_type": "code",
   "execution_count": 28,
   "id": "09ccd02b-d9bf-4e07-ad01-c41960e05f1b",
   "metadata": {},
   "outputs": [
    {
     "data": {
      "image/png": "[encoded data removed]",
      "text/plain": [
       "<Figure size 640x480 with 2 Axes>"
      ]
     },
     "metadata": {},
     "output_type": "display_data"
    }
   ],
   "source": [
    "x0 = np.linspace(0,70,50); x1 = np.linspace(-1,2,50);\n",
    "X0,X1 = np.meshgrid(x0,x1)\n",
    "\n",
    "W0 = 0.5772; W1 = 5.5408; b = -8.8668\n",
    "Y = 1/(1 + np.exp(-(W0*X0 + W1*X1 + b)))\n",
    "plt.contourf(X0,X1,Y,levels=10,alpha=0.2)\n",
    "plt.contour(X0,X1,Y,levels=[0.5],colors='r')\n",
    "\n",
    "plt.scatter(X['ratio_to_median_purchase_price'], X['online_order'], c=y)\n",
    "plt.xlabel('ratio to median purchase price')\n",
    "plt.ylabel('is online order')\n",
    "plt.grid(True), plt.colorbar()\n",
    "plt.show()"
   ]
  },
  {
   "cell_type": "markdown",
   "id": "1bc6469b-5226-4c17-b72f-6fe2569a12ce",
   "metadata": {},
   "source": [
    "This graph suggested that this is a not bad choice, and this visualization is good. It shows that nearly all frauds have been captured by this regression model, although it has predicted a lot of non-fraud transactions to be fraud. But it's ok to be cautious for transactions."
   ]
  },
  {
   "cell_type": "markdown",
   "id": "26b29deb-cf9c-4634-bfc8-5c7c6a6a45a8",
   "metadata": {},
   "source": [
    "### Part 2: Collaborate, Refine, and Simulate the Model\n",
    "\n",
    "After submitting your work in Part 1 in class, work in groups and compare your results. Collaborate, refine, and simulate your models.\n",
    "\n",
    "Present your work in a Jupyter notebook including all parts in Part $1$ along with:\n",
    "- Numerical solutions\n",
    "- Visualizations of solutions\n",
    "- Analysis and discussion of the results.\n",
    "\n",
    "In addition, include a clearly labelled section at the end of your Jupyter notebook, where you discuss the improvements you have made and/or what steps have been taken to refine the model.\n",
    "\n",
    "Students work collaboratively but submit their own final Jupyter notebook individually. Include names of all students with whom you collaborated in Part $2$."
   ]
  },
  {
   "cell_type": "markdown",
   "id": "94a207cf-d2ff-4298-8741-746063b0641a",
   "metadata": {},
   "source": [
    "#### Part 2 - Reflection \n",
    "This reflection should have two parts: \n",
    "\n",
    "1) Explain in a list of bullet points the changes you have made to your model in the version you are submitting and why you chose to make those changes. "
   ]
  },
  {
   "cell_type": "markdown",
   "id": "37b52b69-c74f-4d91-beb6-afa1db173536",
   "metadata": {},
   "source": [
    "- Added description for $Y=0, Y=1$ to improve communication and clearity.\n",
    "- Added headings and section titles to improve structure and clearity.\n",
    "- Changed the order in which the non-scaled model and the scaled model are presented to determine the two features with the largest weight. Changing to improve readability.\n",
    "- Added visualization for the model with one binary feature and one non-binary feature. It's another posibility of model choice that need to be considered.\n",
    "- Added analysis for the above visualization to discuss some properties of this plot."
   ]
  },
  {
   "cell_type": "markdown",
   "id": "c9640fd0-9a29-49ce-84e9-1c8565cf4977",
   "metadata": {},
   "source": [
    "2) In a paragraph or two reflect on the following prompts:\n",
    "    - What part of the six modelling steps was the most challenging for you?\n",
    "    - What helped you to identify any mistakes/misconceptions in your original model?\n",
    "    - Do you think these techniques would be helpful for identifying mistakes/misconceptions in future assignments? Why or why not? "
   ]
  },
  {
   "cell_type": "markdown",
   "id": "2df0bae1-8c7a-4b3e-bbe3-834a22354562",
   "metadata": {},
   "source": [
    "- For me the most challenging part is the visualization in the analysis. For this task, I need programming skills to understand the code, especially that part with meshgrid. I also need to pick the features. And in the first try, I chose two binary features which gave me a really wierd plot. So I need to figure this out how I can visualize it.\n",
    "- For this assignment, the biggest help comes from talking to peers. I compared my result and choice of feature with other students, and I got inspiration of visualization from one of the classmates. In this assignment, the visualization with one binary feature and one non-binary feature comes exactly from that classmate. I did not think of that before.\n",
    "- Definitely. I will always open to talking with other peers to compare and make progress. Even if others make mistakes, their work will help. For example, the visualization of one binary feature and one non-binary feature is actually a mistake made by a classmate, but I choose to include that as a possible choice. I think that makes my work better."
   ]
  },
  {
   "cell_type": "code",
   "execution_count": null,
   "id": "5a93328c-e16c-4dee-a4d1-069e18c134b5",
   "metadata": {},
   "outputs": [],
   "source": []
  }
 ],
 "metadata": {
  "kernelspec": {
   "display_name": "Python 3 (ipykernel)",
   "language": "python",
   "name": "python3"
  },
  "language_info": {
   "codemirror_mode": {
    "name": "ipython",
    "version": 3
   },
   "file_extension": ".py",
   "mimetype": "text/x-python",
   "name": "python",
   "nbconvert_exporter": "python",
   "pygments_lexer": "ipython3",
   "version": "3.10.9"
  }
 },
 "nbformat": 4,
 "nbformat_minor": 5
}
